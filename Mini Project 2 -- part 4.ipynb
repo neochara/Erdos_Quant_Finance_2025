{
 "cells": [
  {
   "cell_type": "markdown",
   "id": "ffedcaf4",
   "metadata": {},
   "source": [
    "# Mini Project 2\n",
    "\n",
    "**2025 Introduction to Quantiative Methods in Finance**\n",
    "\n",
    "**The Erdös Institute**\n",
    "\n",
    "\n",
    "###  Hypothesis Testing of Standard Assumptions Theoretical Financial Mathematics\n",
    "\n",
    "In the theory of mathematical finance, it is common to assume the log returns of a stock/index are normally distributed.\n",
    "\n",
    "\n",
    "Investigate if the log returns of stocks or indexes of your choosing are normally distributed. Some suggestions for exploration include:\n",
    "    \n",
    "    4) Test if the portfolio you created in the first mini-project has significant periods of time with evidence of normally distributed log returns.\n",
    "    "
   ]
  },
  {
   "cell_type": "markdown",
   "id": "e32001df",
   "metadata": {},
   "source": [
    "### I tried various approaches in the first mini-project. Below, I will copy one of them, and test the distribution of its log returns."
   ]
  },
  {
   "cell_type": "code",
   "execution_count": 19,
   "id": "b1be3a44",
   "metadata": {},
   "outputs": [],
   "source": [
    "import yfinance as yf\n",
    "import numpy as np\n",
    "import pandas as pd\n",
    "from scipy.optimize import minimize\n",
    "import matplotlib.pyplot as plt\n",
    "import seaborn as sns\n",
    "sns.set_style('darkgrid')\n",
    "\n",
    "from scipy.stats import shapiro, normaltest, laplace, kstest\n",
    "import statsmodels.api as sm\n",
    "import seaborn as sns\n",
    "import matplotlib.pyplot as plt"
   ]
  },
  {
   "cell_type": "code",
   "execution_count": 20,
   "id": "6f9230e5",
   "metadata": {},
   "outputs": [
    {
     "name": "stderr",
     "output_type": "stream",
     "text": [
      "[*********************100%***********************]  20 of 20 completed\n"
     ]
    }
   ],
   "source": [
    "years = 2\n",
    "fetch_period = f\"{years}y\"  # 2 years\n",
    "\n",
    "stock_indices = ['TSLA','NVDA','AMD','PLTR','ZM','SPCE','COIN','RIVN','LCID','ARKK',\n",
    "                 'JNJ','PG','KO','MCD','WMT','PEP','DUK','NEE','TGT','VZ']\n",
    "\n",
    "data_close = yf.download(stock_indices, period = fetch_period)['Close']"
   ]
  },
  {
   "cell_type": "code",
   "execution_count": 21,
   "id": "b571c159",
   "metadata": {},
   "outputs": [],
   "source": [
    "returns_pct = data_close.pct_change().dropna()     # computes daily percentage return: (P_t-P_{t-1})/P_{t-1}"
   ]
  },
  {
   "cell_type": "code",
   "execution_count": 22,
   "id": "7d05228e",
   "metadata": {},
   "outputs": [
    {
     "name": "stdout",
     "output_type": "stream",
     "text": [
      "Risk Portfolio with ``Inverse Volatility Weighting'' - Annual Return: 27.38%, Volatility: 19.80%\n"
     ]
    }
   ],
   "source": [
    "inv_volatility = 1 / returns_pct.std()\n",
    "weights_inv_vol = inv_volatility / inv_volatility.sum()\n",
    "\n",
    "portfolio_returns_inv_vol = returns_pct.dot(weights_inv_vol)\n",
    "\n",
    "mean_return_inv_vol = np.mean(portfolio_returns_inv_vol) * (252*years)\n",
    "volatility_inv_vol = np.std(portfolio_returns_inv_vol) * np.sqrt(252*years)\n",
    "\n",
    "print(f\"Risk Portfolio with ``Inverse Volatility Weighting'' - Annual Return: {mean_return_inv_vol:.2%}, Volatility: {volatility_inv_vol:.2%}\")"
   ]
  },
  {
   "cell_type": "code",
   "execution_count": 23,
   "id": "0c935c0a",
   "metadata": {},
   "outputs": [
    {
     "name": "stdout",
     "output_type": "stream",
     "text": [
      "Ticker\n",
      "AMD     0.029705\n",
      "ARKK    0.035552\n",
      "COIN    0.017846\n",
      "DUK     0.083181\n",
      "JNJ     0.083480\n",
      "KO      0.097057\n",
      "LCID    0.019492\n",
      "MCD     0.083276\n",
      "NEE     0.050750\n",
      "NVDA    0.028401\n",
      "PEP     0.080975\n",
      "PG      0.088037\n",
      "PLTR    0.021224\n",
      "RIVN    0.019994\n",
      "SPCE    0.015321\n",
      "TGT     0.040156\n",
      "TSLA    0.023154\n",
      "VZ      0.064371\n",
      "WMT     0.070801\n",
      "ZM      0.047226\n",
      "dtype: float64\n"
     ]
    }
   ],
   "source": [
    "print(weights_inv_vol)"
   ]
  },
  {
   "cell_type": "markdown",
   "id": "65819eb0",
   "metadata": {},
   "source": [
    "## Distribution Tests"
   ]
  },
  {
   "cell_type": "code",
   "execution_count": 24,
   "id": "1ca25db2",
   "metadata": {},
   "outputs": [
    {
     "name": "stdout",
     "output_type": "stream",
     "text": [
      "\n",
      "Normality Tests:\n",
      " - Shapiro-Wilk p-value: 0.0000\n",
      " - D’Agostino & Pearson p-value: 0.0000\n",
      "\n",
      "Laplace Fit Test:\n",
      " - KS test p-value: 0.1048\n",
      " - Laplace fit parameters: loc = 0.00092, scale = 0.00656\n"
     ]
    }
   ],
   "source": [
    "log_returns = np.log(1 + portfolio_returns_inv_vol).dropna()\n",
    "log_returns = log_returns[np.isfinite(log_returns)]\n",
    "\n",
    "# Shapiro and normaltest\n",
    "sample = log_returns.sample(5000, random_state=42) if len(log_returns) > 5000 else log_returns\n",
    "_, p_shapiro = shapiro(sample)\n",
    "_, p_normal = normaltest(log_returns)\n",
    "\n",
    "# Laplace fit and test\n",
    "loc, scale = laplace.fit(log_returns)\n",
    "D_laplace, p_laplace = kstest(log_returns, 'laplace', args=(loc, scale))\n",
    "\n",
    "\n",
    "print(\"\\nNormality Tests:\")\n",
    "print(f\" - Shapiro-Wilk p-value: {p_shapiro:.4f}\")\n",
    "print(f\" - D’Agostino & Pearson p-value: {p_normal:.4f}\")\n",
    "\n",
    "print(\"\\nLaplace Fit Test:\")\n",
    "print(f\" - KS test p-value: {p_laplace:.4f}\")\n",
    "print(f\" - Laplace fit parameters: loc = {loc:.5f}, scale = {scale:.5f}\")\n"
   ]
  },
  {
   "cell_type": "code",
   "execution_count": 28,
   "id": "07613cc0",
   "metadata": {},
   "outputs": [
    {
     "name": "stdout",
     "output_type": "stream",
     "text": [
      "\n",
      "Conclusions:\n",
      " - Shapiro-Wilk test: log returns reject normality -- data is NOT normal.\n",
      " - D’Agostino & Pearson test: log returns reject normality -- data is NOT normal.\n",
      " - KS test for Laplace: log returns do NOT reject Laplace fit -- it looks plausible.\n"
     ]
    }
   ],
   "source": [
    "alpha = 0.05\n",
    "\n",
    "print(\"\\nConclusions:\")\n",
    "\n",
    "if p_shapiro > alpha:\n",
    "    print(\" - Shapiro-Wilk test: log returns do NOT reject normality -- fit looks plausible.\")\n",
    "else:\n",
    "    print(\" - Shapiro-Wilk test: log returns reject normality -- data is NOT normal.\")\n",
    "\n",
    "if p_normal > alpha:\n",
    "    print(\" - D’Agostino & Pearson test: log returns do NOT reject normality -- fit looks plausible.\")\n",
    "else:\n",
    "    print(\" - D’Agostino & Pearson test: log returns reject normality -- data is NOT normal.\")\n",
    "\n",
    "if p_laplace > alpha:\n",
    "    print(\" - KS test for Laplace: log returns do NOT reject Laplace fit -- it looks plausible.\")\n",
    "else:\n",
    "    print(\" - KS test for Laplace: log returns reject Laplace fit -- data is NOT Laplace-distributed.\")\n"
   ]
  },
  {
   "cell_type": "code",
   "execution_count": 25,
   "id": "865b5ae6",
   "metadata": {},
   "outputs": [
    {
     "data": {
      "text/plain": [
       "<matplotlib.legend.Legend at 0x140c801f0>"
      ]
     },
     "execution_count": 25,
     "metadata": {},
     "output_type": "execute_result"
    },
    {
     "data": {
      "image/png": "[encoded data removed]",
      "text/plain": [
       "<Figure size 1008x360 with 1 Axes>"
      ]
     },
     "metadata": {},
     "output_type": "display_data"
    }
   ],
   "source": [
    "# Plot histogram and Laplace PDF\n",
    "x = np.linspace(log_returns.min(), log_returns.max(), 1000)\n",
    "pdf_laplace = laplace.pdf(x, loc=loc, scale=scale)\n",
    "\n",
    "plt.figure(figsize=(14, 5))\n",
    "\n",
    "plt.subplot(1, 2, 1)\n",
    "sns.histplot(log_returns, bins=50, stat=\"density\", color='lightgray', label='Histogram')\n",
    "sns.kdeplot(log_returns, color='blue', label='KDE (Normal approx)')\n",
    "plt.plot(x, pdf_laplace, 'r--', label='Laplace PDF')\n",
    "plt.title(\"Log Returns: Histogram with Laplace & KDE\")\n",
    "plt.xlabel(\"Log Return\")\n",
    "plt.ylabel(\"Density\")\n",
    "plt.legend()"
   ]
  },
  {
   "cell_type": "code",
   "execution_count": 26,
   "id": "827d9a4d",
   "metadata": {},
   "outputs": [
    {
     "data": {
      "image/png": "[encoded data removed]",
      "text/plain": [
       "<Figure size 432x288 with 1 Axes>"
      ]
     },
     "metadata": {},
     "output_type": "display_data"
    }
   ],
   "source": [
    "# Q-Q plot\n",
    "plt.subplot(1, 2, 2)\n",
    "sm.qqplot(log_returns, dist=laplace(loc, scale), line='45', ax=plt.gca())\n",
    "plt.title(\"Q-Q Plot vs. Laplace\")\n",
    "\n",
    "plt.tight_layout()\n",
    "plt.show()"
   ]
  },
  {
   "cell_type": "code",
   "execution_count": null,
   "id": "7842f762",
   "metadata": {},
   "outputs": [],
   "source": []
  }
 ],
 "metadata": {
  "kernelspec": {
   "display_name": "Python 3",
   "language": "python",
   "name": "python3"
  },
  "language_info": {
   "codemirror_mode": {
    "name": "ipython",
    "version": 3
   },
   "file_extension": ".py",
   "mimetype": "text/x-python",
   "name": "python",
   "nbconvert_exporter": "python",
   "pygments_lexer": "ipython3",
   "version": "3.10.2"
  }
 },
 "nbformat": 4,
 "nbformat_minor": 5
}
