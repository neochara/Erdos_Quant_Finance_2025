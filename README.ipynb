{
 "cells": [
  {
   "cell_type": "markdown",
   "id": "5be535ba",
   "metadata": {},
   "source": [
    "### Mini-Projects files\n",
    "\n",
    "I had completed the mini-projects in the jupyter notebooks that were provided to us.\n",
    "\n",
    "I include three additional files:\n",
    "- `Mini Project 2 -- part 4.ipynb`: this was for the completion of the final part of mini-project 2, from which I had to copy over parts of the first project\n",
    "- The files `small_tests.ipynb` and `test_laplace_distribution.ipynb` were smaller files I wanted to test some things on for checking when a Laplacian distribution is fitted on the time-series data.\n",
    "\n",
    "I also included a brief executive summary which points out the main ideas behind the approaches I took and studied in each project, with some main conclusion if any were deduced.\n",
    "\n",
    "The slides which were required as part of the presentation are also included, though are not exhaustive."
   ]
  },
  {
   "cell_type": "markdown",
   "id": "769710ae",
   "metadata": {},
   "source": []
  }
 ],
 "metadata": {
  "kernelspec": {
   "display_name": "Python 3 (ipykernel)",
   "language": "python",
   "name": "python3"
  },
  "language_info": {
   "codemirror_mode": {
    "name": "ipython",
    "version": 3
   },
   "file_extension": ".py",
   "mimetype": "text/x-python",
   "name": "python",
   "nbconvert_exporter": "python",
   "pygments_lexer": "ipython3",
   "version": "3.9.13"
  }
 },
 "nbformat": 4,
 "nbformat_minor": 5
}
